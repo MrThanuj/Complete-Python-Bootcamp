{
 "cells": [
  {
   "cell_type": "markdown",
   "id": "b6f82d9f",
   "metadata": {},
   "source": [
    "### If - elif - else statements"
   ]
  },
  {
   "attachments": {},
   "cell_type": "markdown",
   "id": "67ef19d8",
   "metadata": {},
   "source": [
    "Syntax of an if/else statement\n",
    "    if some_condition:\n",
    "        \t# execute some code\n",
    "    elif some_other_condition:\n",
    "            # do something different\n",
    "    else:\n",
    "            # do something else!"
   ]
  },
  {
   "cell_type": "code",
   "execution_count": 3,
   "id": "4ffb0fec",
   "metadata": {},
   "outputs": [
    {
     "name": "stdout",
     "output_type": "stream",
     "text": [
      "Im not hungry\n"
     ]
    }
   ],
   "source": [
    "hungry = False\n",
    "\n",
    "if hungry:\n",
    "    print('FEED ME!')\n",
    "else:\n",
    "    print('Im not hungry')"
   ]
  },
  {
   "cell_type": "code",
   "execution_count": 4,
   "id": "4f169bcb",
   "metadata": {},
   "outputs": [
    {
     "name": "stdout",
     "output_type": "stream",
     "text": [
      "FEED ME!\n"
     ]
    }
   ],
   "source": [
    "hungry = True\n",
    "\n",
    "if hungry:\n",
    "    print('FEED ME!')\n",
    "else:\n",
    "    print('Im not hungry')"
   ]
  },
  {
   "cell_type": "code",
   "execution_count": 8,
   "id": "0e5c0f8f",
   "metadata": {},
   "outputs": [
    {
     "name": "stdout",
     "output_type": "stream",
     "text": [
      "Welcome to the store\n"
     ]
    }
   ],
   "source": [
    "loc = 'Store'\n",
    "\n",
    "if loc == 'Auto Shop':\n",
    "    print(\"Cars are cool!\")\n",
    "elif loc == 'Bank':\n",
    "    print(\"Money is cool!\")\n",
    "elif loc == 'Store':\n",
    "    print('Welcome to the store')\n",
    "else:\n",
    "    print(\"I do not know much\")"
   ]
  },
  {
   "cell_type": "markdown",
   "id": "9e7a6214",
   "metadata": {},
   "source": [
    "### For Loops in Python"
   ]
  },
  {
   "cell_type": "markdown",
   "id": "28145b9f",
   "metadata": {},
   "source": [
    "Many objects in Python are “iterable”, meaning we can iterate over every element in the object.<br>\n",
    "Such as every element in a list or every character in a string.<br>\n",
    "We can use for loops to execute a block of code for every iteration.<br>\n",
    "The term iterable means you can “iterate” over the object.<br>\n",
    "For example you can iterate over every character in a string, iterate over every item in a list, iterate over every key in a dictionary."
   ]
  },
  {
   "attachments": {},
   "cell_type": "markdown",
   "id": "7aec3a2a",
   "metadata": {},
   "source": [
    "Syntax of a for loop\n",
    "\n",
    "my_iterable = [1,2,3]\n",
    "    for item_name in my_iterable: \n",
    "        print(item_name)\n",
    ">> 1\n",
    ">> 2\n",
    ">> 3"
   ]
  },
  {
   "cell_type": "code",
   "execution_count": 12,
   "id": "8d72d636",
   "metadata": {},
   "outputs": [],
   "source": [
    "mylist = [1,2,3,4,5,6,7,8,9,10]"
   ]
  },
  {
   "cell_type": "code",
   "execution_count": 13,
   "id": "c85cec35",
   "metadata": {},
   "outputs": [
    {
     "name": "stdout",
     "output_type": "stream",
     "text": [
      "1\n",
      "2\n",
      "3\n",
      "4\n",
      "5\n",
      "6\n",
      "7\n",
      "8\n",
      "9\n",
      "10\n"
     ]
    }
   ],
   "source": [
    "for num in mylist:\n",
    "    print(num)"
   ]
  },
  {
   "cell_type": "code",
   "execution_count": 20,
   "id": "b15781c1",
   "metadata": {},
   "outputs": [
    {
     "name": "stdout",
     "output_type": "stream",
     "text": [
      "Odd number:1\n",
      "Even number:2\n",
      "Odd number:3\n",
      "Even number:4\n",
      "Odd number:5\n",
      "Even number:6\n",
      "Odd number:7\n",
      "Even number:8\n",
      "Odd number:9\n",
      "Even number:10\n"
     ]
    }
   ],
   "source": [
    "#Check for even numbers in the list\n",
    "for num in mylist:\n",
    "    if num % 2 == 0:\n",
    "        print(f'Even number:{num}')\n",
    "    else:\n",
    "        print(f'Odd number:{num}')"
   ]
  },
  {
   "cell_type": "code",
   "execution_count": 24,
   "id": "1eddf19e",
   "metadata": {},
   "outputs": [
    {
     "name": "stdout",
     "output_type": "stream",
     "text": [
      "[1, 2, 3, 4, 5, 6, 7, 8, 9, 10]\n",
      "1\n",
      "3\n",
      "6\n",
      "10\n",
      "15\n",
      "21\n",
      "28\n",
      "36\n",
      "45\n",
      "55\n",
      "Total sum:55\n"
     ]
    }
   ],
   "source": [
    "list_sum = 0\n",
    "print(mylist)\n",
    "for num in mylist:\n",
    "    list_sum += num\n",
    "    print(list_sum)\n",
    "\n",
    "print(f'Total sum:{list_sum}')"
   ]
  },
  {
   "cell_type": "code",
   "execution_count": 25,
   "id": "52b975bb",
   "metadata": {},
   "outputs": [
    {
     "name": "stdout",
     "output_type": "stream",
     "text": [
      "H\n",
      "e\n",
      "l\n",
      "l\n",
      "o\n",
      " \n",
      "W\n",
      "o\n",
      "r\n",
      "l\n",
      "d\n"
     ]
    }
   ],
   "source": [
    "mystring = 'Hello World'\n",
    "\n",
    "for letter in mystring:\n",
    "    print(letter)"
   ]
  },
  {
   "cell_type": "code",
   "execution_count": 27,
   "id": "ac3dae8e",
   "metadata": {},
   "outputs": [
    {
     "name": "stdout",
     "output_type": "stream",
     "text": [
      "H\n",
      "e\n",
      "l\n",
      "l\n",
      "o\n",
      " \n",
      "W\n",
      "o\n",
      "r\n",
      "l\n",
      "d\n"
     ]
    }
   ],
   "source": [
    "mystring = 'Hello World'\n",
    "\n",
    "for _ in mystring:\n",
    "    print(_)"
   ]
  },
  {
   "cell_type": "code",
   "execution_count": 29,
   "id": "8a21c2dd",
   "metadata": {},
   "outputs": [
    {
     "name": "stdout",
     "output_type": "stream",
     "text": [
      "1\n",
      "3\n",
      "5\n"
     ]
    }
   ],
   "source": [
    "tup = (1,3,5)\n",
    "\n",
    "for item in tup:\n",
    "    print(item)"
   ]
  },
  {
   "cell_type": "code",
   "execution_count": 39,
   "id": "7ee76094",
   "metadata": {},
   "outputs": [
    {
     "name": "stdout",
     "output_type": "stream",
     "text": [
      "This is first element:\n",
      "1\n",
      "This is second element:\n",
      "2\n",
      "This is first element:\n",
      "3\n",
      "This is second element:\n",
      "4\n",
      "This is first element:\n",
      "5\n",
      "This is second element:\n",
      "6\n",
      "This is first element:\n",
      "7\n",
      "This is second element:\n",
      "8\n"
     ]
    }
   ],
   "source": [
    "#Let's see tuple unpacking\n",
    "\n",
    "mytup = [(1,2),(3,4),(5,6),(7,8)]\n",
    "\n",
    "for a,b in mytup:\n",
    "    print('This is first element:')\n",
    "    print(a)\n",
    "    print('This is second element:')\n",
    "    print(b)"
   ]
  },
  {
   "cell_type": "code",
   "execution_count": 45,
   "id": "2836b241",
   "metadata": {},
   "outputs": [
    {
     "name": "stdout",
     "output_type": "stream",
     "text": [
      "1\n",
      "4\n",
      "7\n"
     ]
    }
   ],
   "source": [
    "mytup1 = [(1,2,3),(4,5,6),(7,8,9)]\n",
    "\n",
    "for x,y,z in mytup1:\n",
    "    print(x)"
   ]
  },
  {
   "cell_type": "code",
   "execution_count": 47,
   "id": "3219f291",
   "metadata": {},
   "outputs": [
    {
     "name": "stdout",
     "output_type": "stream",
     "text": [
      "k1\n",
      "k2\n",
      "k3\n"
     ]
    }
   ],
   "source": [
    "d = {'k1':1, 'k2':2, 'k3':3}\n",
    "for item in d:\n",
    "    print(item)"
   ]
  },
  {
   "cell_type": "code",
   "execution_count": 51,
   "id": "413d2902",
   "metadata": {},
   "outputs": [
    {
     "name": "stdout",
     "output_type": "stream",
     "text": [
      "('k1', 1)\n",
      "('k2', 2)\n",
      "('k3', 3)\n"
     ]
    }
   ],
   "source": [
    "d = {'k1':1, 'k2':2, 'k3':3}\n",
    "for i in d.items():\n",
    "    print(i)"
   ]
  },
  {
   "cell_type": "code",
   "execution_count": 58,
   "id": "f79ba19f",
   "metadata": {},
   "outputs": [
    {
     "name": "stdout",
     "output_type": "stream",
     "text": [
      "1\n",
      "2\n",
      "3\n"
     ]
    }
   ],
   "source": [
    "d = {'k1':1, 'k2':2, 'k3':3}\n",
    "for key,value in d.items():\n",
    "    print(value)"
   ]
  },
  {
   "cell_type": "code",
   "execution_count": 61,
   "id": "92554d8f",
   "metadata": {},
   "outputs": [
    {
     "name": "stdout",
     "output_type": "stream",
     "text": [
      "k1 1\n",
      "k2 2\n",
      "k3 3\n"
     ]
    }
   ],
   "source": [
    "d = {'k1':1, 'k2':2, 'k3':3}\n",
    "\n",
    "for key,value in d.items():\n",
    "    print(key,value)"
   ]
  },
  {
   "cell_type": "code",
   "execution_count": null,
   "id": "fe9eacaf",
   "metadata": {},
   "outputs": [],
   "source": []
  }
 ],
 "metadata": {
  "kernelspec": {
   "display_name": "Python 3 (ipykernel)",
   "language": "python",
   "name": "python3"
  },
  "language_info": {
   "codemirror_mode": {
    "name": "ipython",
    "version": 3
   },
   "file_extension": ".py",
   "mimetype": "text/x-python",
   "name": "python",
   "nbconvert_exporter": "python",
   "pygments_lexer": "ipython3",
   "version": "3.9.13"
  },
  "toc": {
   "base_numbering": 1,
   "nav_menu": {},
   "number_sections": true,
   "sideBar": true,
   "skip_h1_title": false,
   "title_cell": "Table of Contents",
   "title_sidebar": "Contents",
   "toc_cell": false,
   "toc_position": {},
   "toc_section_display": true,
   "toc_window_display": false
  }
 },
 "nbformat": 4,
 "nbformat_minor": 5
}
