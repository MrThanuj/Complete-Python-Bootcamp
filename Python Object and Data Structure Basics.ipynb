{
 "cells": [
  {
   "cell_type": "markdown",
   "id": "9f39b081",
   "metadata": {},
   "source": [
    "### Basic Math Operations"
   ]
  },
  {
   "cell_type": "code",
   "execution_count": 1,
   "id": "5e6286a4",
   "metadata": {
    "scrolled": true
   },
   "outputs": [
    {
     "data": {
      "text/plain": [
       "2"
      ]
     },
     "execution_count": 1,
     "metadata": {},
     "output_type": "execute_result"
    }
   ],
   "source": [
    "1+1 #addition"
   ]
  },
  {
   "cell_type": "code",
   "execution_count": 4,
   "id": "0e21b3f7",
   "metadata": {},
   "outputs": [
    {
     "data": {
      "text/plain": [
       "2"
      ]
     },
     "execution_count": 4,
     "metadata": {},
     "output_type": "execute_result"
    }
   ],
   "source": [
    "5-3 #subtraction"
   ]
  },
  {
   "cell_type": "code",
   "execution_count": 5,
   "id": "a409d0e9",
   "metadata": {},
   "outputs": [
    {
     "data": {
      "text/plain": [
       "12"
      ]
     },
     "execution_count": 5,
     "metadata": {},
     "output_type": "execute_result"
    }
   ],
   "source": [
    "4*3 #multiplication"
   ]
  },
  {
   "cell_type": "code",
   "execution_count": 6,
   "id": "32552b15",
   "metadata": {},
   "outputs": [
    {
     "data": {
      "text/plain": [
       "3.0"
      ]
     },
     "execution_count": 6,
     "metadata": {},
     "output_type": "execute_result"
    }
   ],
   "source": [
    "9/3 #division"
   ]
  },
  {
   "cell_type": "markdown",
   "id": "79a62342",
   "metadata": {},
   "source": [
    "### Modulo or \"Mod\" Operator"
   ]
  },
  {
   "cell_type": "code",
   "execution_count": 10,
   "id": "eba5e42e",
   "metadata": {},
   "outputs": [
    {
     "data": {
      "text/plain": [
       "1.75"
      ]
     },
     "execution_count": 10,
     "metadata": {},
     "output_type": "execute_result"
    }
   ],
   "source": [
    "7 / 4"
   ]
  },
  {
   "cell_type": "code",
   "execution_count": 11,
   "id": "367388bb",
   "metadata": {},
   "outputs": [
    {
     "data": {
      "text/plain": [
       "3"
      ]
     },
     "execution_count": 11,
     "metadata": {},
     "output_type": "execute_result"
    }
   ],
   "source": [
    "7 % 4 #reminder"
   ]
  },
  {
   "cell_type": "code",
   "execution_count": 12,
   "id": "d33aabc8",
   "metadata": {},
   "outputs": [
    {
     "data": {
      "text/plain": [
       "0"
      ]
     },
     "execution_count": 12,
     "metadata": {},
     "output_type": "execute_result"
    }
   ],
   "source": [
    "40 % 8"
   ]
  },
  {
   "cell_type": "code",
   "execution_count": 14,
   "id": "7966f527",
   "metadata": {},
   "outputs": [
    {
     "data": {
      "text/plain": [
       "64"
      ]
     },
     "execution_count": 14,
     "metadata": {},
     "output_type": "execute_result"
    }
   ],
   "source": [
    "4 ** 3 #power of.."
   ]
  },
  {
   "cell_type": "code",
   "execution_count": 15,
   "id": "fa707334",
   "metadata": {},
   "outputs": [
    {
     "data": {
      "text/plain": [
       "46"
      ]
     },
     "execution_count": 15,
     "metadata": {},
     "output_type": "execute_result"
    }
   ],
   "source": [
    "4 + 5 * 8 + 2 #without parenthesis"
   ]
  },
  {
   "cell_type": "code",
   "execution_count": 16,
   "id": "1d669ad5",
   "metadata": {},
   "outputs": [
    {
     "data": {
      "text/plain": [
       "90"
      ]
     },
     "execution_count": 16,
     "metadata": {},
     "output_type": "execute_result"
    }
   ],
   "source": [
    "(4 + 5) * (8 + 2) #use of parenthesis"
   ]
  },
  {
   "cell_type": "markdown",
   "id": "bea21724",
   "metadata": {},
   "source": [
    "### Variable assignments"
   ]
  },
  {
   "cell_type": "markdown",
   "id": "cd27265c",
   "metadata": {},
   "source": [
    "Python uses Dynamic Typing <br>\n",
    "This means you can reassign variables to different data types.<br>\n",
    "This makes Python very flexible in assigning data types, this is different than other languages that are “Statically-Typed”\n"
   ]
  },
  {
   "cell_type": "code",
   "execution_count": null,
   "id": "16e95a65",
   "metadata": {},
   "outputs": [],
   "source": []
  }
 ],
 "metadata": {
  "kernelspec": {
   "display_name": "Python 3 (ipykernel)",
   "language": "python",
   "name": "python3"
  },
  "language_info": {
   "codemirror_mode": {
    "name": "ipython",
    "version": 3
   },
   "file_extension": ".py",
   "mimetype": "text/x-python",
   "name": "python",
   "nbconvert_exporter": "python",
   "pygments_lexer": "ipython3",
   "version": "3.9.13"
  },
  "toc": {
   "base_numbering": 1,
   "nav_menu": {},
   "number_sections": false,
   "sideBar": true,
   "skip_h1_title": false,
   "title_cell": "Table of Contents",
   "title_sidebar": "Contents",
   "toc_cell": false,
   "toc_position": {},
   "toc_section_display": true,
   "toc_window_display": false
  }
 },
 "nbformat": 4,
 "nbformat_minor": 5
}
