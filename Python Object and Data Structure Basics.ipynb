{
 "cells": [
  {
   "cell_type": "markdown",
   "id": "9f39b081",
   "metadata": {},
   "source": [
    "### Basic Math Operations  \n",
    "30-01-2023"
   ]
  },
  {
   "cell_type": "code",
   "execution_count": 1,
   "id": "5e6286a4",
   "metadata": {
    "scrolled": true
   },
   "outputs": [
    {
     "data": {
      "text/plain": [
       "2"
      ]
     },
     "execution_count": 1,
     "metadata": {},
     "output_type": "execute_result"
    }
   ],
   "source": [
    "1+1 #addition"
   ]
  },
  {
   "cell_type": "code",
   "execution_count": 4,
   "id": "0e21b3f7",
   "metadata": {},
   "outputs": [
    {
     "data": {
      "text/plain": [
       "2"
      ]
     },
     "execution_count": 4,
     "metadata": {},
     "output_type": "execute_result"
    }
   ],
   "source": [
    "5-3 #subtraction"
   ]
  },
  {
   "cell_type": "code",
   "execution_count": 5,
   "id": "a409d0e9",
   "metadata": {},
   "outputs": [
    {
     "data": {
      "text/plain": [
       "12"
      ]
     },
     "execution_count": 5,
     "metadata": {},
     "output_type": "execute_result"
    }
   ],
   "source": [
    "4*3 #multiplication"
   ]
  },
  {
   "cell_type": "code",
   "execution_count": 6,
   "id": "32552b15",
   "metadata": {},
   "outputs": [
    {
     "data": {
      "text/plain": [
       "3.0"
      ]
     },
     "execution_count": 6,
     "metadata": {},
     "output_type": "execute_result"
    }
   ],
   "source": [
    "9/3 #division"
   ]
  },
  {
   "cell_type": "markdown",
   "id": "79a62342",
   "metadata": {},
   "source": [
    "### Modulo or \"Mod\" Operator"
   ]
  },
  {
   "cell_type": "code",
   "execution_count": 10,
   "id": "eba5e42e",
   "metadata": {},
   "outputs": [
    {
     "data": {
      "text/plain": [
       "1.75"
      ]
     },
     "execution_count": 10,
     "metadata": {},
     "output_type": "execute_result"
    }
   ],
   "source": [
    "7 / 4"
   ]
  },
  {
   "cell_type": "code",
   "execution_count": 11,
   "id": "367388bb",
   "metadata": {},
   "outputs": [
    {
     "data": {
      "text/plain": [
       "3"
      ]
     },
     "execution_count": 11,
     "metadata": {},
     "output_type": "execute_result"
    }
   ],
   "source": [
    "7 % 4 #reminder"
   ]
  },
  {
   "cell_type": "code",
   "execution_count": 12,
   "id": "d33aabc8",
   "metadata": {},
   "outputs": [
    {
     "data": {
      "text/plain": [
       "0"
      ]
     },
     "execution_count": 12,
     "metadata": {},
     "output_type": "execute_result"
    }
   ],
   "source": [
    "40 % 8"
   ]
  },
  {
   "cell_type": "code",
   "execution_count": 14,
   "id": "7966f527",
   "metadata": {},
   "outputs": [
    {
     "data": {
      "text/plain": [
       "64"
      ]
     },
     "execution_count": 14,
     "metadata": {},
     "output_type": "execute_result"
    }
   ],
   "source": [
    "4 ** 3 #power of.."
   ]
  },
  {
   "cell_type": "code",
   "execution_count": 15,
   "id": "fa707334",
   "metadata": {},
   "outputs": [
    {
     "data": {
      "text/plain": [
       "46"
      ]
     },
     "execution_count": 15,
     "metadata": {},
     "output_type": "execute_result"
    }
   ],
   "source": [
    "4 + 5 * 8 + 2 #without parenthesis"
   ]
  },
  {
   "cell_type": "code",
   "execution_count": 16,
   "id": "1d669ad5",
   "metadata": {},
   "outputs": [
    {
     "data": {
      "text/plain": [
       "90"
      ]
     },
     "execution_count": 16,
     "metadata": {},
     "output_type": "execute_result"
    }
   ],
   "source": [
    "(4 + 5) * (8 + 2) #use of parenthesis"
   ]
  },
  {
   "cell_type": "markdown",
   "id": "bea21724",
   "metadata": {},
   "source": [
    "### Variable assignments\n",
    "31-01-2023"
   ]
  },
  {
   "cell_type": "code",
   "execution_count": 2,
   "id": "16e95a65",
   "metadata": {},
   "outputs": [],
   "source": [
    "a = 5"
   ]
  },
  {
   "cell_type": "code",
   "execution_count": 3,
   "id": "876a40a9",
   "metadata": {},
   "outputs": [
    {
     "data": {
      "text/plain": [
       "5"
      ]
     },
     "execution_count": 3,
     "metadata": {},
     "output_type": "execute_result"
    }
   ],
   "source": [
    "a"
   ]
  },
  {
   "cell_type": "code",
   "execution_count": 4,
   "id": "5bddbfa7",
   "metadata": {},
   "outputs": [],
   "source": [
    "a = a + a"
   ]
  },
  {
   "cell_type": "code",
   "execution_count": 5,
   "id": "90c75616",
   "metadata": {},
   "outputs": [
    {
     "data": {
      "text/plain": [
       "10"
      ]
     },
     "execution_count": 5,
     "metadata": {},
     "output_type": "execute_result"
    }
   ],
   "source": [
    "a"
   ]
  },
  {
   "cell_type": "code",
   "execution_count": 6,
   "id": "c8e8d833",
   "metadata": {},
   "outputs": [],
   "source": [
    "a = a * a"
   ]
  },
  {
   "cell_type": "code",
   "execution_count": 7,
   "id": "9ed494eb",
   "metadata": {},
   "outputs": [
    {
     "data": {
      "text/plain": [
       "100"
      ]
     },
     "execution_count": 7,
     "metadata": {},
     "output_type": "execute_result"
    }
   ],
   "source": [
    "a"
   ]
  },
  {
   "cell_type": "code",
   "execution_count": 9,
   "id": "b1792811",
   "metadata": {},
   "outputs": [
    {
     "data": {
      "text/plain": [
       "int"
      ]
     },
     "execution_count": 9,
     "metadata": {},
     "output_type": "execute_result"
    }
   ],
   "source": [
    "type(a) #datatype"
   ]
  },
  {
   "cell_type": "code",
   "execution_count": 10,
   "id": "05da49fb",
   "metadata": {},
   "outputs": [],
   "source": [
    "b = 0.5"
   ]
  },
  {
   "cell_type": "code",
   "execution_count": 13,
   "id": "d8690931",
   "metadata": {},
   "outputs": [
    {
     "data": {
      "text/plain": [
       "float"
      ]
     },
     "execution_count": 13,
     "metadata": {},
     "output_type": "execute_result"
    }
   ],
   "source": [
    "type(b)"
   ]
  },
  {
   "cell_type": "markdown",
   "id": "1b68eec0",
   "metadata": {},
   "source": [
    "### Strings\n",
    "\n",
    "'hey' \n",
    "\"hey\"\n",
    "\" How are you \"\n",
    "\n",
    ">Strings are ordered sequences, therefore we can use indexing and slicing to grab the sub-sections of the string.\n",
    "><br>Indexing notation uses [] notation after the string (or variable assigned the string).\n",
    "><br>Indexing allows to grab a single character from the string.\n",
    "\n",
    "><br>Slicing allows to grab a subsection of multiple characters.\n",
    "><br>This has the following syntax: [start:stop:step]\n",
    "><br>start is a numerical index for the slice start\n",
    "><br>stop is the index you will go up to (but not include)\n",
    "><br>step is the size of the \"jump\" you take."
   ]
  },
  {
   "cell_type": "code",
   "execution_count": 14,
   "id": "13957143",
   "metadata": {},
   "outputs": [
    {
     "data": {
      "text/plain": [
       "'hello'"
      ]
     },
     "execution_count": 14,
     "metadata": {},
     "output_type": "execute_result"
    }
   ],
   "source": [
    "\"hello\""
   ]
  },
  {
   "cell_type": "code",
   "execution_count": 15,
   "id": "7925c70c",
   "metadata": {},
   "outputs": [
    {
     "data": {
      "text/plain": [
       "'world'"
      ]
     },
     "execution_count": 15,
     "metadata": {},
     "output_type": "execute_result"
    }
   ],
   "source": [
    "\"world\""
   ]
  },
  {
   "cell_type": "code",
   "execution_count": 16,
   "id": "4083524a",
   "metadata": {},
   "outputs": [
    {
     "name": "stdout",
     "output_type": "stream",
     "text": [
      "hello world\n"
     ]
    }
   ],
   "source": [
    "print(\"hello world\")"
   ]
  },
  {
   "cell_type": "code",
   "execution_count": 19,
   "id": "47351615",
   "metadata": {},
   "outputs": [
    {
     "name": "stdout",
     "output_type": "stream",
     "text": [
      "hello\n",
      "world\n"
     ]
    }
   ],
   "source": [
    "print ('hello\\nworld')"
   ]
  },
  {
   "cell_type": "code",
   "execution_count": 20,
   "id": "8d700f1d",
   "metadata": {},
   "outputs": [
    {
     "name": "stdout",
     "output_type": "stream",
     "text": [
      "hello\tworld\n"
     ]
    }
   ],
   "source": [
    "print ('hello\\tworld')"
   ]
  },
  {
   "cell_type": "code",
   "execution_count": 21,
   "id": "3e02ff75",
   "metadata": {},
   "outputs": [
    {
     "data": {
      "text/plain": [
       "6"
      ]
     },
     "execution_count": 21,
     "metadata": {},
     "output_type": "execute_result"
    }
   ],
   "source": [
    "len('hooray')"
   ]
  },
  {
   "cell_type": "code",
   "execution_count": 22,
   "id": "0dd28420",
   "metadata": {},
   "outputs": [
    {
     "data": {
      "text/plain": [
       "4"
      ]
     },
     "execution_count": 22,
     "metadata": {},
     "output_type": "execute_result"
    }
   ],
   "source": [
    "len('i am')"
   ]
  },
  {
   "cell_type": "markdown",
   "id": "4e8a38a1",
   "metadata": {},
   "source": [
    "### String Indexing and Slicing\n",
    "Indexing - grab single character of the string <br>\n",
    "Slicing - grab a subsection of the string"
   ]
  },
  {
   "cell_type": "code",
   "execution_count": 23,
   "id": "405d8bea",
   "metadata": {},
   "outputs": [],
   "source": [
    "mystring = 'Hello World'"
   ]
  },
  {
   "cell_type": "code",
   "execution_count": 24,
   "id": "8a31ac5c",
   "metadata": {},
   "outputs": [
    {
     "data": {
      "text/plain": [
       "'Hello World'"
      ]
     },
     "execution_count": 24,
     "metadata": {},
     "output_type": "execute_result"
    }
   ],
   "source": [
    "mystring"
   ]
  },
  {
   "cell_type": "code",
   "execution_count": 25,
   "id": "2124a9b5",
   "metadata": {},
   "outputs": [
    {
     "data": {
      "text/plain": [
       "'H'"
      ]
     },
     "execution_count": 25,
     "metadata": {},
     "output_type": "execute_result"
    }
   ],
   "source": [
    "mystring[0] # this is called indexing"
   ]
  },
  {
   "cell_type": "code",
   "execution_count": 30,
   "id": "4a807da1",
   "metadata": {},
   "outputs": [
    {
     "data": {
      "text/plain": [
       "'d'"
      ]
     },
     "execution_count": 30,
     "metadata": {},
     "output_type": "execute_result"
    }
   ],
   "source": [
    "mystring[-1]"
   ]
  },
  {
   "cell_type": "code",
   "execution_count": 35,
   "id": "8de76cd0",
   "metadata": {},
   "outputs": [],
   "source": [
    "mystring = 'abcdefghijklm'"
   ]
  },
  {
   "cell_type": "code",
   "execution_count": 36,
   "id": "d627e89d",
   "metadata": {},
   "outputs": [
    {
     "data": {
      "text/plain": [
       "'abcdefghijklm'"
      ]
     },
     "execution_count": 36,
     "metadata": {},
     "output_type": "execute_result"
    }
   ],
   "source": [
    "mystring"
   ]
  },
  {
   "cell_type": "code",
   "execution_count": 37,
   "id": "7a0a778c",
   "metadata": {},
   "outputs": [
    {
     "data": {
      "text/plain": [
       "'cdefghijklm'"
      ]
     },
     "execution_count": 37,
     "metadata": {},
     "output_type": "execute_result"
    }
   ],
   "source": [
    "mystring[2:] #this is called slicing"
   ]
  },
  {
   "cell_type": "code",
   "execution_count": 38,
   "id": "42cacd6f",
   "metadata": {},
   "outputs": [
    {
     "data": {
      "text/plain": [
       "'abcd'"
      ]
     },
     "execution_count": 38,
     "metadata": {},
     "output_type": "execute_result"
    }
   ],
   "source": [
    "mystring[:4]"
   ]
  },
  {
   "cell_type": "code",
   "execution_count": 43,
   "id": "dcda3a21",
   "metadata": {},
   "outputs": [
    {
     "data": {
      "text/plain": [
       "'def'"
      ]
     },
     "execution_count": 43,
     "metadata": {},
     "output_type": "execute_result"
    }
   ],
   "source": [
    "mystring[3:6]"
   ]
  },
  {
   "cell_type": "code",
   "execution_count": 45,
   "id": "77734ed4",
   "metadata": {},
   "outputs": [
    {
     "data": {
      "text/plain": [
       "'bc'"
      ]
     },
     "execution_count": 45,
     "metadata": {},
     "output_type": "execute_result"
    }
   ],
   "source": [
    "mystring[1:3]"
   ]
  },
  {
   "cell_type": "code",
   "execution_count": 51,
   "id": "222e4554",
   "metadata": {},
   "outputs": [
    {
     "data": {
      "text/plain": [
       "'acegikm'"
      ]
     },
     "execution_count": 51,
     "metadata": {},
     "output_type": "execute_result"
    }
   ],
   "source": [
    "mystring[::2]"
   ]
  },
  {
   "cell_type": "code",
   "execution_count": 55,
   "id": "87eca92a",
   "metadata": {},
   "outputs": [
    {
     "data": {
      "text/plain": [
       "'mlkjihgfedcba'"
      ]
     },
     "execution_count": 55,
     "metadata": {},
     "output_type": "execute_result"
    }
   ],
   "source": [
    "mystring[::-1]"
   ]
  },
  {
   "cell_type": "markdown",
   "id": "78e7d5ee",
   "metadata": {},
   "source": [
    "### String Properties and Methods"
   ]
  },
  {
   "cell_type": "code",
   "execution_count": 91,
   "id": "2f05df86",
   "metadata": {},
   "outputs": [],
   "source": [
    "#### Immutability --Means Cannot Change\n",
    "\n",
    "name = \"Sam\" #--Change name Sam to Pam"
   ]
  },
  {
   "cell_type": "code",
   "execution_count": 65,
   "id": "ed9aa37c",
   "metadata": {},
   "outputs": [],
   "source": [
    "last_letters = name[1:]"
   ]
  },
  {
   "cell_type": "code",
   "execution_count": 66,
   "id": "4d1d6514",
   "metadata": {},
   "outputs": [
    {
     "data": {
      "text/plain": [
       "'am'"
      ]
     },
     "execution_count": 66,
     "metadata": {},
     "output_type": "execute_result"
    }
   ],
   "source": [
    "last_letters"
   ]
  },
  {
   "cell_type": "code",
   "execution_count": 70,
   "id": "db740131",
   "metadata": {},
   "outputs": [
    {
     "data": {
      "text/plain": [
       "'Pam'"
      ]
     },
     "execution_count": 70,
     "metadata": {},
     "output_type": "execute_result"
    }
   ],
   "source": [
    "'P' + last_letters #this is called string concatenation"
   ]
  },
  {
   "cell_type": "code",
   "execution_count": 71,
   "id": "e9a571a3",
   "metadata": {},
   "outputs": [],
   "source": [
    "X = 'Hello World'"
   ]
  },
  {
   "cell_type": "code",
   "execution_count": 78,
   "id": "448d7f36",
   "metadata": {},
   "outputs": [],
   "source": [
    "X = X + \", It's beautiful outside!\""
   ]
  },
  {
   "cell_type": "code",
   "execution_count": 79,
   "id": "9133cd09",
   "metadata": {},
   "outputs": [
    {
     "data": {
      "text/plain": [
       "\"Hello World, It's beautiful outside!, It's beautiful outside!, It's beautiful outside!, It's beautiful outside!\""
      ]
     },
     "execution_count": 79,
     "metadata": {},
     "output_type": "execute_result"
    }
   ],
   "source": [
    "X"
   ]
  },
  {
   "cell_type": "code",
   "execution_count": 81,
   "id": "a554dce7",
   "metadata": {},
   "outputs": [],
   "source": [
    "letter = 'z'"
   ]
  },
  {
   "cell_type": "code",
   "execution_count": 82,
   "id": "8d7367e5",
   "metadata": {},
   "outputs": [
    {
     "data": {
      "text/plain": [
       "'zzzzzzzzzz'"
      ]
     },
     "execution_count": 82,
     "metadata": {},
     "output_type": "execute_result"
    }
   ],
   "source": [
    "letter * 10"
   ]
  },
  {
   "cell_type": "code",
   "execution_count": 83,
   "id": "8c222819",
   "metadata": {},
   "outputs": [
    {
     "data": {
      "text/plain": [
       "3"
      ]
     },
     "execution_count": 83,
     "metadata": {},
     "output_type": "execute_result"
    }
   ],
   "source": [
    "1 + 2"
   ]
  },
  {
   "cell_type": "code",
   "execution_count": 84,
   "id": "63b440be",
   "metadata": {},
   "outputs": [
    {
     "data": {
      "text/plain": [
       "'12'"
      ]
     },
     "execution_count": 84,
     "metadata": {},
     "output_type": "execute_result"
    }
   ],
   "source": [
    "'1' + '2'"
   ]
  },
  {
   "cell_type": "code",
   "execution_count": 85,
   "id": "7a61013e",
   "metadata": {},
   "outputs": [],
   "source": [
    "x = 'Hello World'"
   ]
  },
  {
   "cell_type": "code",
   "execution_count": 86,
   "id": "0da4e572",
   "metadata": {},
   "outputs": [
    {
     "data": {
      "text/plain": [
       "'HELLO WORLD'"
      ]
     },
     "execution_count": 86,
     "metadata": {},
     "output_type": "execute_result"
    }
   ],
   "source": [
    "x.upper()"
   ]
  },
  {
   "cell_type": "code",
   "execution_count": 87,
   "id": "02b72bd0",
   "metadata": {},
   "outputs": [
    {
     "data": {
      "text/plain": [
       "'Hello World'"
      ]
     },
     "execution_count": 87,
     "metadata": {},
     "output_type": "execute_result"
    }
   ],
   "source": [
    "x"
   ]
  },
  {
   "cell_type": "code",
   "execution_count": 88,
   "id": "18e5015e",
   "metadata": {},
   "outputs": [
    {
     "data": {
      "text/plain": [
       "'hello world'"
      ]
     },
     "execution_count": 88,
     "metadata": {},
     "output_type": "execute_result"
    }
   ],
   "source": [
    "x.lower()"
   ]
  },
  {
   "cell_type": "code",
   "execution_count": 89,
   "id": "bfb994af",
   "metadata": {},
   "outputs": [
    {
     "data": {
      "text/plain": [
       "['Hello', 'World']"
      ]
     },
     "execution_count": 89,
     "metadata": {},
     "output_type": "execute_result"
    }
   ],
   "source": [
    "x.split()"
   ]
  },
  {
   "cell_type": "code",
   "execution_count": 92,
   "id": "41783c47",
   "metadata": {},
   "outputs": [],
   "source": [
    "x = 'Hi this is a string '"
   ]
  },
  {
   "cell_type": "code",
   "execution_count": 95,
   "id": "cfac3602",
   "metadata": {},
   "outputs": [
    {
     "data": {
      "text/plain": [
       "['H', ' th', 's ', 's a str', 'ng ']"
      ]
     },
     "execution_count": 95,
     "metadata": {},
     "output_type": "execute_result"
    }
   ],
   "source": [
    "x.split('i')"
   ]
  },
  {
   "cell_type": "markdown",
   "id": "4ad2ac94",
   "metadata": {},
   "source": [
    "### String Formatting for Printing"
   ]
  },
  {
   "cell_type": "code",
   "execution_count": 100,
   "id": "25a4efdf",
   "metadata": {},
   "outputs": [],
   "source": [
    "# .format() method\n",
    "\n",
    "Syntax : 'String here {} then also {}'.format('something1','something2')"
   ]
  },
  {
   "cell_type": "code",
   "execution_count": 101,
   "id": "4f07f955",
   "metadata": {},
   "outputs": [
    {
     "name": "stdout",
     "output_type": "stream",
     "text": [
      "This is a string INSERTED\n"
     ]
    }
   ],
   "source": [
    "print(\"This is a string {}\".format('INSERTED'))"
   ]
  },
  {
   "cell_type": "code",
   "execution_count": 103,
   "id": "5a2a0ffb",
   "metadata": {
    "scrolled": true
   },
   "outputs": [
    {
     "name": "stdout",
     "output_type": "stream",
     "text": [
      "Hi there how are you\n"
     ]
    }
   ],
   "source": [
    "print(\"Hi {} {} {} {}\".format('there','how','are','you') )"
   ]
  },
  {
   "cell_type": "code",
   "execution_count": 109,
   "id": "5fc9ddef",
   "metadata": {},
   "outputs": [
    {
     "name": "stdout",
     "output_type": "stream",
     "text": [
      "Hi how are there you\n"
     ]
    }
   ],
   "source": [
    "print(\"Hi {1} {2} {0} {3}\".format('there','how','are','you') )"
   ]
  },
  {
   "cell_type": "code",
   "execution_count": 111,
   "id": "027f83a0",
   "metadata": {},
   "outputs": [
    {
     "name": "stdout",
     "output_type": "stream",
     "text": [
      "Hi how are you there\n"
     ]
    }
   ],
   "source": [
    "print(\"Hi {h} {r} {u} {t}\".format(t='there',h='how',r='are',u='you') )"
   ]
  },
  {
   "cell_type": "markdown",
   "id": "772ef649",
   "metadata": {},
   "source": [
    "### Float Formatting <br>\n",
    "follows \"{value:width.precision f}\""
   ]
  },
  {
   "cell_type": "code",
   "execution_count": 112,
   "id": "fe9dbab7",
   "metadata": {},
   "outputs": [],
   "source": [
    "result =  110/889"
   ]
  },
  {
   "cell_type": "code",
   "execution_count": 138,
   "id": "2b276461",
   "metadata": {},
   "outputs": [
    {
     "data": {
      "text/plain": [
       "0.12373453318335208"
      ]
     },
     "execution_count": 138,
     "metadata": {},
     "output_type": "execute_result"
    }
   ],
   "source": [
    "result"
   ]
  },
  {
   "cell_type": "code",
   "execution_count": 115,
   "id": "8c0af58e",
   "metadata": {},
   "outputs": [
    {
     "name": "stdout",
     "output_type": "stream",
     "text": [
      "The result was 0.12373453318335208\n"
     ]
    }
   ],
   "source": [
    "print(\"The result was {res}\".format(res=result))"
   ]
  },
  {
   "cell_type": "code",
   "execution_count": 139,
   "id": "357f5d6f",
   "metadata": {},
   "outputs": [
    {
     "name": "stdout",
     "output_type": "stream",
     "text": [
      "The result was 0.12373453318335208\n"
     ]
    }
   ],
   "source": [
    "print(\"The result was {}\".format(result))"
   ]
  },
  {
   "cell_type": "code",
   "execution_count": 125,
   "id": "c1e3c259",
   "metadata": {},
   "outputs": [
    {
     "name": "stdout",
     "output_type": "stream",
     "text": [
      "The result was 0.124\n"
     ]
    }
   ],
   "source": [
    "print(\"The result was {res:1.3f}\".format(res=result))"
   ]
  },
  {
   "cell_type": "code",
   "execution_count": 126,
   "id": "6ecfbd2d",
   "metadata": {},
   "outputs": [],
   "source": [
    "name = \"Thanuj\""
   ]
  },
  {
   "cell_type": "code",
   "execution_count": 130,
   "id": "41361ca1",
   "metadata": {},
   "outputs": [
    {
     "name": "stdout",
     "output_type": "stream",
     "text": [
      "Hello, his name is Thanuj\n"
     ]
    }
   ],
   "source": [
    "print(f'Hello, his name is {name}')"
   ]
  },
  {
   "cell_type": "code",
   "execution_count": 136,
   "id": "ae8df658",
   "metadata": {},
   "outputs": [],
   "source": [
    "name = 'Peter'\n",
    "age = 5"
   ]
  },
  {
   "cell_type": "code",
   "execution_count": 137,
   "id": "f0e757b7",
   "metadata": {},
   "outputs": [
    {
     "name": "stdout",
     "output_type": "stream",
     "text": [
      "Hi, my name is Peter, 5 years old.\n"
     ]
    }
   ],
   "source": [
    "print(f'Hi, my name is {name}, {age} years old.')"
   ]
  },
  {
   "cell_type": "markdown",
   "id": "0b743456",
   "metadata": {},
   "source": [
    "### Lists\n",
    "01-02-2023"
   ]
  },
  {
   "cell_type": "markdown",
   "id": "9fd6d1f5",
   "metadata": {},
   "source": [
    "> Lists are ordered sequences that can hold a variety of objects types\n",
    "> They use [] and commas to separate objects in the list. ex: [1,2,3,4,5]\n",
    "> Lists support indexing and slicing"
   ]
  },
  {
   "cell_type": "code",
   "execution_count": 1,
   "id": "37e74437",
   "metadata": {},
   "outputs": [],
   "source": [
    "mylist = [1,2,3,4]"
   ]
  },
  {
   "cell_type": "code",
   "execution_count": 2,
   "id": "66cfd88b",
   "metadata": {},
   "outputs": [
    {
     "data": {
      "text/plain": [
       "[1, 2, 3, 4]"
      ]
     },
     "execution_count": 2,
     "metadata": {},
     "output_type": "execute_result"
    }
   ],
   "source": [
    "mylist"
   ]
  },
  {
   "cell_type": "code",
   "execution_count": 3,
   "id": "5f56c0ee",
   "metadata": {},
   "outputs": [],
   "source": [
    "mylist = ['String', 10, 20.5] #list supports mixed datatypes"
   ]
  },
  {
   "cell_type": "code",
   "execution_count": 4,
   "id": "4a828941",
   "metadata": {},
   "outputs": [
    {
     "data": {
      "text/plain": [
       "3"
      ]
     },
     "execution_count": 4,
     "metadata": {},
     "output_type": "execute_result"
    }
   ],
   "source": [
    "len(mylist)"
   ]
  },
  {
   "cell_type": "code",
   "execution_count": 21,
   "id": "82815c59",
   "metadata": {},
   "outputs": [],
   "source": [
    "mylist = ['A','B','C']"
   ]
  },
  {
   "cell_type": "code",
   "execution_count": 22,
   "id": "281468c3",
   "metadata": {},
   "outputs": [
    {
     "data": {
      "text/plain": [
       "'B'"
      ]
     },
     "execution_count": 22,
     "metadata": {},
     "output_type": "execute_result"
    }
   ],
   "source": [
    "mylist[1] #indexing"
   ]
  },
  {
   "cell_type": "code",
   "execution_count": 23,
   "id": "e02962eb",
   "metadata": {},
   "outputs": [
    {
     "data": {
      "text/plain": [
       "['B', 'C']"
      ]
     },
     "execution_count": 23,
     "metadata": {},
     "output_type": "execute_result"
    }
   ],
   "source": [
    "mylist[1:] #slicing"
   ]
  },
  {
   "cell_type": "code",
   "execution_count": 24,
   "id": "e626fafd",
   "metadata": {},
   "outputs": [],
   "source": [
    "anotherlist = ['D','E','F'] "
   ]
  },
  {
   "cell_type": "code",
   "execution_count": 25,
   "id": "db4f235a",
   "metadata": {},
   "outputs": [],
   "source": [
    "newlist = mylist + anotherlist # concatenation"
   ]
  },
  {
   "cell_type": "code",
   "execution_count": 29,
   "id": "a9b4ea80",
   "metadata": {},
   "outputs": [
    {
     "data": {
      "text/plain": [
       "['A', 'B', 'C', 'D', 'E', 'F']"
      ]
     },
     "execution_count": 29,
     "metadata": {},
     "output_type": "execute_result"
    }
   ],
   "source": [
    "newlist"
   ]
  },
  {
   "cell_type": "code",
   "execution_count": 32,
   "id": "48f5554f",
   "metadata": {},
   "outputs": [],
   "source": [
    "newlist[0] = 'a is lowercase'"
   ]
  },
  {
   "cell_type": "code",
   "execution_count": 58,
   "id": "db44f70a",
   "metadata": {},
   "outputs": [
    {
     "data": {
      "text/plain": [
       "['a is lowercase', 'B', 'C', 'D', 'H']"
      ]
     },
     "execution_count": 58,
     "metadata": {},
     "output_type": "execute_result"
    }
   ],
   "source": [
    "newlist"
   ]
  },
  {
   "cell_type": "markdown",
   "id": "d20f863a",
   "metadata": {},
   "source": [
    "append() is a method allows you to place any item at the end "
   ]
  },
  {
   "cell_type": "code",
   "execution_count": 59,
   "id": "aac60f09",
   "metadata": {},
   "outputs": [],
   "source": [
    "newlist.append('G') #append() is a method allows you to place any item at the end of the list"
   ]
  },
  {
   "cell_type": "code",
   "execution_count": 60,
   "id": "e4b2337e",
   "metadata": {},
   "outputs": [
    {
     "data": {
      "text/plain": [
       "['a is lowercase', 'B', 'C', 'D', 'H', 'G']"
      ]
     },
     "execution_count": 60,
     "metadata": {},
     "output_type": "execute_result"
    }
   ],
   "source": [
    "newlist"
   ]
  },
  {
   "cell_type": "code",
   "execution_count": 61,
   "id": "e84e908e",
   "metadata": {},
   "outputs": [],
   "source": [
    "newlist.append('H')"
   ]
  },
  {
   "cell_type": "code",
   "execution_count": 62,
   "id": "635fe5ca",
   "metadata": {},
   "outputs": [
    {
     "data": {
      "text/plain": [
       "['a is lowercase', 'B', 'C', 'D', 'H', 'G', 'H']"
      ]
     },
     "execution_count": 62,
     "metadata": {},
     "output_type": "execute_result"
    }
   ],
   "source": [
    "newlist"
   ]
  },
  {
   "cell_type": "markdown",
   "id": "a1d2f8c0",
   "metadata": {},
   "source": [
    "pop() method allows you to pop out the items inthelist"
   ]
  },
  {
   "cell_type": "code",
   "execution_count": 63,
   "id": "0720a344",
   "metadata": {},
   "outputs": [
    {
     "data": {
      "text/plain": [
       "'H'"
      ]
     },
     "execution_count": 63,
     "metadata": {},
     "output_type": "execute_result"
    }
   ],
   "source": [
    "newlist.pop() #pop() method allows you to pop out the items inthelist"
   ]
  },
  {
   "cell_type": "code",
   "execution_count": 64,
   "id": "e5890e42",
   "metadata": {},
   "outputs": [
    {
     "data": {
      "text/plain": [
       "['a is lowercase', 'B', 'C', 'D', 'H', 'G']"
      ]
     },
     "execution_count": 64,
     "metadata": {},
     "output_type": "execute_result"
    }
   ],
   "source": [
    "newlist"
   ]
  },
  {
   "cell_type": "code",
   "execution_count": 65,
   "id": "bfe7a148",
   "metadata": {},
   "outputs": [],
   "source": [
    "popped_item = newlist.pop()"
   ]
  },
  {
   "cell_type": "code",
   "execution_count": 66,
   "id": "5d262b73",
   "metadata": {},
   "outputs": [
    {
     "data": {
      "text/plain": [
       "'G'"
      ]
     },
     "execution_count": 66,
     "metadata": {},
     "output_type": "execute_result"
    }
   ],
   "source": [
    "popped_item"
   ]
  },
  {
   "cell_type": "code",
   "execution_count": 67,
   "id": "db0aec9b",
   "metadata": {},
   "outputs": [
    {
     "data": {
      "text/plain": [
       "['a is lowercase', 'B', 'C', 'D', 'H']"
      ]
     },
     "execution_count": 67,
     "metadata": {},
     "output_type": "execute_result"
    }
   ],
   "source": [
    "newlist"
   ]
  },
  {
   "cell_type": "code",
   "execution_count": 68,
   "id": "7b916ea9",
   "metadata": {},
   "outputs": [
    {
     "data": {
      "text/plain": [
       "'a is lowercase'"
      ]
     },
     "execution_count": 68,
     "metadata": {},
     "output_type": "execute_result"
    }
   ],
   "source": [
    "newlist.pop(0)"
   ]
  },
  {
   "cell_type": "code",
   "execution_count": 69,
   "id": "688349dc",
   "metadata": {},
   "outputs": [
    {
     "data": {
      "text/plain": [
       "['B', 'C', 'D', 'H']"
      ]
     },
     "execution_count": 69,
     "metadata": {},
     "output_type": "execute_result"
    }
   ],
   "source": [
    "newlist"
   ]
  },
  {
   "cell_type": "markdown",
   "id": "fb14fa7e",
   "metadata": {},
   "source": [
    "-------------------------------------------------------<br>\n",
    "sort() method sorts the items in the list.<br>\n",
    "sort() is NoneType, that means it doesn't return value. It just sorts!"
   ]
  },
  {
   "cell_type": "code",
   "execution_count": 70,
   "id": "4bc524a5",
   "metadata": {},
   "outputs": [],
   "source": [
    "newlist = ['x', 'a', 'd', 'b']\n",
    "numlist = [6,1,5,3]"
   ]
  },
  {
   "cell_type": "code",
   "execution_count": 71,
   "id": "7621020a",
   "metadata": {},
   "outputs": [],
   "source": [
    "newlist.sort()"
   ]
  },
  {
   "cell_type": "code",
   "execution_count": 73,
   "id": "bcaced6c",
   "metadata": {},
   "outputs": [
    {
     "data": {
      "text/plain": [
       "['a', 'b', 'd', 'x']"
      ]
     },
     "execution_count": 73,
     "metadata": {},
     "output_type": "execute_result"
    }
   ],
   "source": [
    "newlist #sorts the list items in alphabetic order"
   ]
  },
  {
   "cell_type": "code",
   "execution_count": 74,
   "id": "72905701",
   "metadata": {},
   "outputs": [],
   "source": [
    "mysorted_list = newlist.sort()"
   ]
  },
  {
   "cell_type": "code",
   "execution_count": 75,
   "id": "7f53f07e",
   "metadata": {},
   "outputs": [],
   "source": [
    "mysorted_list #doesn't return anything bec sort() is NoneType"
   ]
  },
  {
   "cell_type": "code",
   "execution_count": 76,
   "id": "8704e54e",
   "metadata": {},
   "outputs": [
    {
     "data": {
      "text/plain": [
       "NoneType"
      ]
     },
     "execution_count": 76,
     "metadata": {},
     "output_type": "execute_result"
    }
   ],
   "source": [
    "type(mysorted_list)"
   ]
  },
  {
   "cell_type": "code",
   "execution_count": 78,
   "id": "9bfe26d5",
   "metadata": {},
   "outputs": [],
   "source": [
    "None #special object generally used for placeholder"
   ]
  },
  {
   "cell_type": "code",
   "execution_count": 82,
   "id": "feb12b44",
   "metadata": {},
   "outputs": [],
   "source": [
    "newlist.sort()\n",
    "mysorted_list = newlist"
   ]
  },
  {
   "cell_type": "code",
   "execution_count": 83,
   "id": "5f929786",
   "metadata": {},
   "outputs": [
    {
     "data": {
      "text/plain": [
       "['a', 'b', 'd', 'x']"
      ]
     },
     "execution_count": 83,
     "metadata": {},
     "output_type": "execute_result"
    }
   ],
   "source": [
    "mysorted_list"
   ]
  },
  {
   "cell_type": "code",
   "execution_count": 84,
   "id": "9f13b940",
   "metadata": {},
   "outputs": [
    {
     "data": {
      "text/plain": [
       "[6, 1, 5, 3]"
      ]
     },
     "execution_count": 84,
     "metadata": {},
     "output_type": "execute_result"
    }
   ],
   "source": [
    "numlist"
   ]
  },
  {
   "cell_type": "code",
   "execution_count": 85,
   "id": "25c0cfcd",
   "metadata": {},
   "outputs": [],
   "source": [
    "numlist.sort()"
   ]
  },
  {
   "cell_type": "code",
   "execution_count": 86,
   "id": "d70d6793",
   "metadata": {},
   "outputs": [
    {
     "data": {
      "text/plain": [
       "[1, 3, 5, 6]"
      ]
     },
     "execution_count": 86,
     "metadata": {},
     "output_type": "execute_result"
    }
   ],
   "source": [
    "numlist"
   ]
  },
  {
   "cell_type": "markdown",
   "id": "c0e69385",
   "metadata": {},
   "source": [
    "reverse() methods to reverse the items in the list"
   ]
  },
  {
   "cell_type": "code",
   "execution_count": 87,
   "id": "7dfb595d",
   "metadata": {},
   "outputs": [],
   "source": [
    "numlist.reverse()"
   ]
  },
  {
   "cell_type": "code",
   "execution_count": 88,
   "id": "afc40aeb",
   "metadata": {},
   "outputs": [
    {
     "data": {
      "text/plain": [
       "[6, 5, 3, 1]"
      ]
     },
     "execution_count": 88,
     "metadata": {},
     "output_type": "execute_result"
    }
   ],
   "source": [
    "numlist"
   ]
  },
  {
   "cell_type": "markdown",
   "id": "0e4eaa6f",
   "metadata": {},
   "source": [
    "### Dictionaries\n",
    "02-02-2023\n",
    "\n",
    "<br>\n",
    "Dictionaries are unordered mappings for storing objects. Previously we saw how lists store objects in an ordered sequence, dictionaries use  a key-value pairing instead.<br>\n",
    "\n",
    "This key-value pair allows users to quickly grab objects without needing to know an index location.\n",
    "\n",
    "Dictionaries use curly braces and colons to signify the keys and their associated values.\n",
    "                 {'key1':'value1','key2':'value2'}\n",
    "\n",
    "\n"
   ]
  },
  {
   "cell_type": "markdown",
   "id": "d9a47bf9",
   "metadata": {},
   "source": [
    "Dictionaries:  Objects retrieved by key name.\n",
    "Unordered and can not be sorted.\n",
    "<br>\n",
    "Lists:  Objects retrieved by location.\n",
    "Ordered Sequence can be indexed or sliced."
   ]
  },
  {
   "cell_type": "code",
   "execution_count": 1,
   "id": "b795cd55",
   "metadata": {},
   "outputs": [],
   "source": [
    "my_dict = {'key1':'value1', 'key':'value2'}"
   ]
  },
  {
   "cell_type": "code",
   "execution_count": 2,
   "id": "d0ff1f7a",
   "metadata": {},
   "outputs": [
    {
     "data": {
      "text/plain": [
       "{'key1': 'value1', 'key': 'value2'}"
      ]
     },
     "execution_count": 2,
     "metadata": {},
     "output_type": "execute_result"
    }
   ],
   "source": [
    "my_dict"
   ]
  },
  {
   "cell_type": "code",
   "execution_count": 3,
   "id": "cbfceaef",
   "metadata": {},
   "outputs": [
    {
     "data": {
      "text/plain": [
       "'value1'"
      ]
     },
     "execution_count": 3,
     "metadata": {},
     "output_type": "execute_result"
    }
   ],
   "source": [
    "my_dict['key1']"
   ]
  },
  {
   "cell_type": "code",
   "execution_count": 4,
   "id": "ba657ce9",
   "metadata": {},
   "outputs": [],
   "source": [
    "costs_list = {'cake':5.99, 'pizza': 7.99, 'coke':3.99}"
   ]
  },
  {
   "cell_type": "code",
   "execution_count": 8,
   "id": "72e03416",
   "metadata": {},
   "outputs": [
    {
     "data": {
      "text/plain": [
       "5.99"
      ]
     },
     "execution_count": 8,
     "metadata": {},
     "output_type": "execute_result"
    }
   ],
   "source": [
    "costs_list['cake']"
   ]
  },
  {
   "cell_type": "code",
   "execution_count": 9,
   "id": "a40e026f",
   "metadata": {},
   "outputs": [],
   "source": [
    "dt = {'k1':123, 'k2':[0,1,2],'k3':{'insidekey':100}} "
   ]
  },
  {
   "cell_type": "code",
   "execution_count": 12,
   "id": "ebbbe78a",
   "metadata": {},
   "outputs": [
    {
     "data": {
      "text/plain": [
       "123"
      ]
     },
     "execution_count": 12,
     "metadata": {},
     "output_type": "execute_result"
    }
   ],
   "source": [
    "dt['k1']"
   ]
  },
  {
   "cell_type": "code",
   "execution_count": 16,
   "id": "617cbb1d",
   "metadata": {},
   "outputs": [
    {
     "data": {
      "text/plain": [
       "2"
      ]
     },
     "execution_count": 16,
     "metadata": {},
     "output_type": "execute_result"
    }
   ],
   "source": [
    "dt['k2'][2]"
   ]
  },
  {
   "cell_type": "code",
   "execution_count": 15,
   "id": "279f6318",
   "metadata": {},
   "outputs": [
    {
     "data": {
      "text/plain": [
       "100"
      ]
     },
     "execution_count": 15,
     "metadata": {},
     "output_type": "execute_result"
    }
   ],
   "source": [
    "dt['k3']['insidekey']"
   ]
  },
  {
   "cell_type": "code",
   "execution_count": 17,
   "id": "61773a5a",
   "metadata": {},
   "outputs": [],
   "source": [
    "d = {'key1':['a','b','c']}"
   ]
  },
  {
   "cell_type": "code",
   "execution_count": 18,
   "id": "3680700a",
   "metadata": {},
   "outputs": [
    {
     "data": {
      "text/plain": [
       "{'key1': ['a', 'b', 'c']}"
      ]
     },
     "execution_count": 18,
     "metadata": {},
     "output_type": "execute_result"
    }
   ],
   "source": [
    "d"
   ]
  },
  {
   "cell_type": "code",
   "execution_count": 19,
   "id": "b11e489c",
   "metadata": {},
   "outputs": [
    {
     "data": {
      "text/plain": [
       "'C'"
      ]
     },
     "execution_count": 19,
     "metadata": {},
     "output_type": "execute_result"
    }
   ],
   "source": [
    "d['key1'][-1].upper()"
   ]
  },
  {
   "cell_type": "code",
   "execution_count": 22,
   "id": "136cf2ba",
   "metadata": {},
   "outputs": [],
   "source": [
    "d = {'k1':100,'k2':200}"
   ]
  },
  {
   "cell_type": "code",
   "execution_count": 23,
   "id": "5c779923",
   "metadata": {},
   "outputs": [
    {
     "data": {
      "text/plain": [
       "{'k1': 100, 'k2': 200}"
      ]
     },
     "execution_count": 23,
     "metadata": {},
     "output_type": "execute_result"
    }
   ],
   "source": [
    "d"
   ]
  },
  {
   "cell_type": "code",
   "execution_count": 24,
   "id": "1e794e6b",
   "metadata": {},
   "outputs": [],
   "source": [
    "d['k3'] = 300"
   ]
  },
  {
   "cell_type": "code",
   "execution_count": 25,
   "id": "78825bdb",
   "metadata": {},
   "outputs": [
    {
     "data": {
      "text/plain": [
       "{'k1': 100, 'k2': 200, 'k3': 300}"
      ]
     },
     "execution_count": 25,
     "metadata": {},
     "output_type": "execute_result"
    }
   ],
   "source": [
    "d"
   ]
  },
  {
   "cell_type": "code",
   "execution_count": 26,
   "id": "0ce53da7",
   "metadata": {},
   "outputs": [],
   "source": [
    "d['k2'] = 100"
   ]
  },
  {
   "cell_type": "code",
   "execution_count": 27,
   "id": "bb810f11",
   "metadata": {},
   "outputs": [
    {
     "data": {
      "text/plain": [
       "{'k1': 100, 'k2': 100, 'k3': 300}"
      ]
     },
     "execution_count": 27,
     "metadata": {},
     "output_type": "execute_result"
    }
   ],
   "source": [
    "d"
   ]
  },
  {
   "cell_type": "code",
   "execution_count": 28,
   "id": "e0e97887",
   "metadata": {},
   "outputs": [
    {
     "data": {
      "text/plain": [
       "dict_keys(['k1', 'k2', 'k3'])"
      ]
     },
     "execution_count": 28,
     "metadata": {},
     "output_type": "execute_result"
    }
   ],
   "source": [
    "d.keys()"
   ]
  },
  {
   "cell_type": "code",
   "execution_count": 29,
   "id": "347faef0",
   "metadata": {},
   "outputs": [
    {
     "data": {
      "text/plain": [
       "dict_values([100, 100, 300])"
      ]
     },
     "execution_count": 29,
     "metadata": {},
     "output_type": "execute_result"
    }
   ],
   "source": [
    "d.values()"
   ]
  },
  {
   "cell_type": "code",
   "execution_count": 30,
   "id": "a0b34ec9",
   "metadata": {},
   "outputs": [
    {
     "data": {
      "text/plain": [
       "dict_items([('k1', 100), ('k2', 100), ('k3', 300)])"
      ]
     },
     "execution_count": 30,
     "metadata": {},
     "output_type": "execute_result"
    }
   ],
   "source": [
    "d.items()"
   ]
  },
  {
   "cell_type": "markdown",
   "id": "70a12303",
   "metadata": {},
   "source": [
    "### Tuples"
   ]
  },
  {
   "cell_type": "markdown",
   "id": "419c267d",
   "metadata": {},
   "source": [
    "Tuples are very similar to lists. However they have one key difference - immutability.<br>\n",
    "Once an element is inside a tuple, it can not be reassigned.<br>\n",
    "Tuples use parenthesis:  (1,2,3)\n"
   ]
  },
  {
   "cell_type": "code",
   "execution_count": 31,
   "id": "989a658d",
   "metadata": {},
   "outputs": [],
   "source": [
    "t = (1,2,3)"
   ]
  },
  {
   "cell_type": "code",
   "execution_count": 32,
   "id": "6934bb08",
   "metadata": {},
   "outputs": [],
   "source": [
    "mylist = [1,2,3]"
   ]
  },
  {
   "cell_type": "code",
   "execution_count": 33,
   "id": "285da0ca",
   "metadata": {},
   "outputs": [
    {
     "data": {
      "text/plain": [
       "tuple"
      ]
     },
     "execution_count": 33,
     "metadata": {},
     "output_type": "execute_result"
    }
   ],
   "source": [
    "type(t)"
   ]
  },
  {
   "cell_type": "code",
   "execution_count": 34,
   "id": "39b19b69",
   "metadata": {},
   "outputs": [
    {
     "data": {
      "text/plain": [
       "list"
      ]
     },
     "execution_count": 34,
     "metadata": {},
     "output_type": "execute_result"
    }
   ],
   "source": [
    "type(mylist)"
   ]
  },
  {
   "cell_type": "code",
   "execution_count": 35,
   "id": "413ba880",
   "metadata": {},
   "outputs": [
    {
     "data": {
      "text/plain": [
       "3"
      ]
     },
     "execution_count": 35,
     "metadata": {},
     "output_type": "execute_result"
    }
   ],
   "source": [
    "len(t)"
   ]
  },
  {
   "cell_type": "code",
   "execution_count": 36,
   "id": "6b1c8abd",
   "metadata": {},
   "outputs": [],
   "source": [
    "t = ('one',2,3,'four')"
   ]
  },
  {
   "cell_type": "code",
   "execution_count": 37,
   "id": "3d0b5804",
   "metadata": {},
   "outputs": [
    {
     "data": {
      "text/plain": [
       "'one'"
      ]
     },
     "execution_count": 37,
     "metadata": {},
     "output_type": "execute_result"
    }
   ],
   "source": [
    "t[0]"
   ]
  },
  {
   "cell_type": "code",
   "execution_count": 40,
   "id": "02f9e1d8",
   "metadata": {},
   "outputs": [
    {
     "data": {
      "text/plain": [
       "2"
      ]
     },
     "execution_count": 40,
     "metadata": {},
     "output_type": "execute_result"
    }
   ],
   "source": [
    "t[1]"
   ]
  },
  {
   "cell_type": "code",
   "execution_count": 42,
   "id": "a2f7bfbf",
   "metadata": {},
   "outputs": [
    {
     "data": {
      "text/plain": [
       "3"
      ]
     },
     "execution_count": 42,
     "metadata": {},
     "output_type": "execute_result"
    }
   ],
   "source": [
    "len(t)"
   ]
  },
  {
   "cell_type": "code",
   "execution_count": 41,
   "id": "6c0b2e85",
   "metadata": {},
   "outputs": [],
   "source": [
    "t = ('a','a','b')"
   ]
  },
  {
   "cell_type": "code",
   "execution_count": 47,
   "id": "af400894",
   "metadata": {},
   "outputs": [
    {
     "data": {
      "text/plain": [
       "2"
      ]
     },
     "execution_count": 47,
     "metadata": {},
     "output_type": "execute_result"
    }
   ],
   "source": [
    "t.count('a')"
   ]
  },
  {
   "cell_type": "code",
   "execution_count": 48,
   "id": "fb3d471e",
   "metadata": {},
   "outputs": [
    {
     "data": {
      "text/plain": [
       "0"
      ]
     },
     "execution_count": 48,
     "metadata": {},
     "output_type": "execute_result"
    }
   ],
   "source": [
    "t.index('a')"
   ]
  },
  {
   "cell_type": "code",
   "execution_count": 49,
   "id": "614cbc45",
   "metadata": {},
   "outputs": [
    {
     "data": {
      "text/plain": [
       "2"
      ]
     },
     "execution_count": 49,
     "metadata": {},
     "output_type": "execute_result"
    }
   ],
   "source": [
    "t.index('b')"
   ]
  },
  {
   "cell_type": "code",
   "execution_count": 50,
   "id": "3907df14",
   "metadata": {},
   "outputs": [
    {
     "data": {
      "text/plain": [
       "('a', 'a', 'b')"
      ]
     },
     "execution_count": 50,
     "metadata": {},
     "output_type": "execute_result"
    }
   ],
   "source": [
    "t"
   ]
  },
  {
   "cell_type": "code",
   "execution_count": 51,
   "id": "9011d8c3",
   "metadata": {},
   "outputs": [
    {
     "data": {
      "text/plain": [
       "[1, 2, 3]"
      ]
     },
     "execution_count": 51,
     "metadata": {},
     "output_type": "execute_result"
    }
   ],
   "source": [
    "mylist"
   ]
  },
  {
   "cell_type": "code",
   "execution_count": 52,
   "id": "088d0a7a",
   "metadata": {},
   "outputs": [],
   "source": [
    "mylist[0] = 'one'"
   ]
  },
  {
   "cell_type": "code",
   "execution_count": 53,
   "id": "76c8bf3e",
   "metadata": {},
   "outputs": [
    {
     "data": {
      "text/plain": [
       "['one', 2, 3]"
      ]
     },
     "execution_count": 53,
     "metadata": {},
     "output_type": "execute_result"
    }
   ],
   "source": [
    "mylist #list is mutable"
   ]
  },
  {
   "cell_type": "code",
   "execution_count": 54,
   "id": "183e0ce8",
   "metadata": {},
   "outputs": [
    {
     "ename": "TypeError",
     "evalue": "'tuple' object does not support item assignment",
     "output_type": "error",
     "traceback": [
      "\u001b[1;31m---------------------------------------------------------------------------\u001b[0m",
      "\u001b[1;31mTypeError\u001b[0m                                 Traceback (most recent call last)",
      "\u001b[1;32m~\\AppData\\Local\\Temp\\ipykernel_224\\3054271853.py\u001b[0m in \u001b[0;36m<module>\u001b[1;34m\u001b[0m\n\u001b[1;32m----> 1\u001b[1;33m \u001b[0mt\u001b[0m\u001b[1;33m[\u001b[0m\u001b[1;36m0\u001b[0m\u001b[1;33m]\u001b[0m \u001b[1;33m=\u001b[0m \u001b[1;34m'A'\u001b[0m\u001b[1;33m\u001b[0m\u001b[1;33m\u001b[0m\u001b[0m\n\u001b[0m",
      "\u001b[1;31mTypeError\u001b[0m: 'tuple' object does not support item assignment"
     ]
    }
   ],
   "source": [
    "t[0] = 'A' # ERROR --- tuple is immutable and that's the main difference b/n list & tupl"
   ]
  },
  {
   "cell_type": "markdown",
   "id": "d6f13a6c",
   "metadata": {},
   "source": [
    "### Sets\n",
    "Sets are unordered collections of unique elements.<br>\n",
    "Meaning there can only be one representative of the same object."
   ]
  },
  {
   "cell_type": "code",
   "execution_count": 55,
   "id": "dde850e5",
   "metadata": {},
   "outputs": [],
   "source": [
    "myset = set()"
   ]
  },
  {
   "cell_type": "code",
   "execution_count": 56,
   "id": "c7700bf0",
   "metadata": {},
   "outputs": [
    {
     "data": {
      "text/plain": [
       "set()"
      ]
     },
     "execution_count": 56,
     "metadata": {},
     "output_type": "execute_result"
    }
   ],
   "source": [
    "myset"
   ]
  },
  {
   "cell_type": "code",
   "execution_count": 57,
   "id": "c234d2f6",
   "metadata": {},
   "outputs": [],
   "source": [
    "myset.add(1) #add is the method"
   ]
  },
  {
   "cell_type": "code",
   "execution_count": 58,
   "id": "adb516bd",
   "metadata": {},
   "outputs": [
    {
     "data": {
      "text/plain": [
       "{1}"
      ]
     },
     "execution_count": 58,
     "metadata": {},
     "output_type": "execute_result"
    }
   ],
   "source": [
    "myset"
   ]
  },
  {
   "cell_type": "code",
   "execution_count": 59,
   "id": "225b7618",
   "metadata": {},
   "outputs": [],
   "source": [
    "myset.add(2)"
   ]
  },
  {
   "cell_type": "code",
   "execution_count": 60,
   "id": "b64a4be4",
   "metadata": {},
   "outputs": [
    {
     "data": {
      "text/plain": [
       "{1, 2}"
      ]
     },
     "execution_count": 60,
     "metadata": {},
     "output_type": "execute_result"
    }
   ],
   "source": [
    "myset"
   ]
  },
  {
   "cell_type": "code",
   "execution_count": 61,
   "id": "3923cde3",
   "metadata": {},
   "outputs": [],
   "source": [
    "myset.add(2)"
   ]
  },
  {
   "cell_type": "code",
   "execution_count": 63,
   "id": "ef096486",
   "metadata": {},
   "outputs": [
    {
     "data": {
      "text/plain": [
       "{1, 2}"
      ]
     },
     "execution_count": 63,
     "metadata": {},
     "output_type": "execute_result"
    }
   ],
   "source": [
    "myset  #if we try to add the same element which is already in set, it won't repeat it."
   ]
  },
  {
   "cell_type": "code",
   "execution_count": 64,
   "id": "d108077c",
   "metadata": {},
   "outputs": [],
   "source": [
    "mylist = [0,0,0,1,1,2,3,3,3,2,2]"
   ]
  },
  {
   "cell_type": "code",
   "execution_count": 65,
   "id": "df982151",
   "metadata": {},
   "outputs": [
    {
     "data": {
      "text/plain": [
       "{0, 1, 2, 3}"
      ]
     },
     "execution_count": 65,
     "metadata": {},
     "output_type": "execute_result"
    }
   ],
   "source": [
    "set(mylist)"
   ]
  },
  {
   "cell_type": "markdown",
   "id": "0c275de4",
   "metadata": {},
   "source": [
    "### Practice Exerises"
   ]
  },
  {
   "cell_type": "markdown",
   "id": "86702b55",
   "metadata": {},
   "source": [
    "Q1. \n",
    "Given a list, write a Python program to swap first and last element of the list.\n",
    "\n",
    "Examples: \n",
    "\n",
    "Input : [12, 35, 9, 56, 24]\n",
    "Output : [24, 35, 9, 56, 12]\n",
    "\n",
    "Input : [1, 2, 3]\n",
    "Output : [3, 2, 1]"
   ]
  },
  {
   "cell_type": "code",
   "execution_count": 99,
   "id": "afee1537",
   "metadata": {},
   "outputs": [
    {
     "data": {
      "text/plain": [
       "[24, 35, 9, 56, 12]"
      ]
     },
     "execution_count": 99,
     "metadata": {},
     "output_type": "execute_result"
    }
   ],
   "source": [
    "l1 = [12, 35, 9, 56, 24]\n",
    "s = l1[-1]\n",
    "l1[-1] = l1[0]\n",
    "l1[0] = s\n",
    "l1"
   ]
  },
  {
   "cell_type": "code",
   "execution_count": 100,
   "id": "06d73f31",
   "metadata": {},
   "outputs": [
    {
     "name": "stdout",
     "output_type": "stream",
     "text": [
      "[24, 35, 9, 56, 12]\n"
     ]
    }
   ],
   "source": [
    "#another method\n",
    "\n",
    "l1 = [12, 35, 9, 56, 24]\n",
    "\n",
    "l1[-1], l1[0] = l1[0], l1[-1]\n",
    "\n",
    "print(l1)"
   ]
  },
  {
   "cell_type": "code",
   "execution_count": null,
   "id": "66d4d977",
   "metadata": {},
   "outputs": [],
   "source": [
    "Q2:\n",
    "Given a list in Python and provided the positions of the elements, write a program to swap the two elements in the list.\n",
    " \n",
    "\n",
    "Examples:  \n",
    "\n",
    "Input : List = [23, 65, 19, 90], pos1 = 1, pos2 = 3\n",
    "Output : [19, 65, 23, 90]\n",
    "\n",
    "Input : List = [1, 2, 3, 4, 5], pos1 = 2, pos2 = 5\n",
    "Output : [1, 5, 3, 4, 2]"
   ]
  },
  {
   "cell_type": "code",
   "execution_count": 1,
   "id": "4af070b2",
   "metadata": {},
   "outputs": [
    {
     "name": "stdout",
     "output_type": "stream",
     "text": [
      "The actual list [23, 65, 19, 90]\n",
      "The swapped list [19, 65, 23, 90]\n"
     ]
    }
   ],
   "source": [
    "posl = [23, 65, 19, 90]\n",
    "print('The actual list',posl)\n",
    "posl[0], posl[2] = posl[2], posl[0]\n",
    "print('The swapped list',posl)"
   ]
  },
  {
   "cell_type": "markdown",
   "id": "21646c3b",
   "metadata": {},
   "source": [
    "### Boolens \n",
    "\n",
    "03-02-2023"
   ]
  },
  {
   "cell_type": "markdown",
   "id": "39ca4b52",
   "metadata": {},
   "source": [
    "Boolens are operators that allow you to convey True or False statements"
   ]
  },
  {
   "cell_type": "code",
   "execution_count": 4,
   "id": "fd677dea",
   "metadata": {},
   "outputs": [
    {
     "data": {
      "text/plain": [
       "True"
      ]
     },
     "execution_count": 4,
     "metadata": {},
     "output_type": "execute_result"
    }
   ],
   "source": [
    "True"
   ]
  },
  {
   "cell_type": "code",
   "execution_count": 5,
   "id": "74eada9d",
   "metadata": {},
   "outputs": [
    {
     "data": {
      "text/plain": [
       "False"
      ]
     },
     "execution_count": 5,
     "metadata": {},
     "output_type": "execute_result"
    }
   ],
   "source": [
    "False"
   ]
  },
  {
   "cell_type": "code",
   "execution_count": 6,
   "id": "babe03b6",
   "metadata": {},
   "outputs": [
    {
     "data": {
      "text/plain": [
       "bool"
      ]
     },
     "execution_count": 6,
     "metadata": {},
     "output_type": "execute_result"
    }
   ],
   "source": [
    "type(True)"
   ]
  },
  {
   "cell_type": "code",
   "execution_count": 7,
   "id": "24aea631",
   "metadata": {},
   "outputs": [
    {
     "data": {
      "text/plain": [
       "False"
      ]
     },
     "execution_count": 7,
     "metadata": {},
     "output_type": "execute_result"
    }
   ],
   "source": [
    "1 > 2"
   ]
  },
  {
   "cell_type": "code",
   "execution_count": 10,
   "id": "2f28c11c",
   "metadata": {},
   "outputs": [
    {
     "data": {
      "text/plain": [
       "True"
      ]
     },
     "execution_count": 10,
     "metadata": {},
     "output_type": "execute_result"
    }
   ],
   "source": [
    "1 == 1"
   ]
  },
  {
   "cell_type": "code",
   "execution_count": 12,
   "id": "74465327",
   "metadata": {},
   "outputs": [],
   "source": [
    "b = None"
   ]
  },
  {
   "cell_type": "code",
   "execution_count": 13,
   "id": "0c7da0b0",
   "metadata": {},
   "outputs": [],
   "source": [
    "b"
   ]
  },
  {
   "cell_type": "markdown",
   "id": "14295529",
   "metadata": {},
   "source": [
    "### IO with Basic Files in Python"
   ]
  },
  {
   "cell_type": "code",
   "execution_count": 27,
   "id": "21e39d9c",
   "metadata": {},
   "outputs": [
    {
     "name": "stdout",
     "output_type": "stream",
     "text": [
      "Overwriting myfirstIOfile.txt\n"
     ]
    }
   ],
   "source": [
    "%%writefile myfirstIOfile.txt\n",
    "Hello this is a text file\n",
    "this is second line\n",
    "this is third line"
   ]
  },
  {
   "cell_type": "code",
   "execution_count": 28,
   "id": "50926639",
   "metadata": {},
   "outputs": [],
   "source": [
    "myfile = open('myfirstIOfile.txt')"
   ]
  },
  {
   "cell_type": "code",
   "execution_count": 29,
   "id": "fd473fd5",
   "metadata": {},
   "outputs": [
    {
     "data": {
      "text/plain": [
       "'C:\\\\Users\\\\Thanuj Kumar.S\\\\My Python Stuffs'"
      ]
     },
     "execution_count": 29,
     "metadata": {},
     "output_type": "execute_result"
    }
   ],
   "source": [
    "pwd"
   ]
  },
  {
   "cell_type": "code",
   "execution_count": 30,
   "id": "767c56c9",
   "metadata": {},
   "outputs": [
    {
     "data": {
      "text/plain": [
       "'Hello this is a text file\\nthis is second line\\nthis is third line\\n'"
      ]
     },
     "execution_count": 30,
     "metadata": {},
     "output_type": "execute_result"
    }
   ],
   "source": [
    "myfile.read()"
   ]
  },
  {
   "cell_type": "code",
   "execution_count": 31,
   "id": "c89e6af1",
   "metadata": {},
   "outputs": [
    {
     "data": {
      "text/plain": [
       "''"
      ]
     },
     "execution_count": 31,
     "metadata": {},
     "output_type": "execute_result"
    }
   ],
   "source": [
    "myfile.read()"
   ]
  },
  {
   "cell_type": "code",
   "execution_count": 32,
   "id": "66f118f5",
   "metadata": {},
   "outputs": [
    {
     "data": {
      "text/plain": [
       "0"
      ]
     },
     "execution_count": 32,
     "metadata": {},
     "output_type": "execute_result"
    }
   ],
   "source": [
    "myfile.seek(0)"
   ]
  },
  {
   "cell_type": "code",
   "execution_count": 33,
   "id": "b701cdac",
   "metadata": {},
   "outputs": [
    {
     "data": {
      "text/plain": [
       "'Hello this is a text file\\nthis is second line\\nthis is third line\\n'"
      ]
     },
     "execution_count": 33,
     "metadata": {},
     "output_type": "execute_result"
    }
   ],
   "source": [
    "myfile.read()"
   ]
  },
  {
   "cell_type": "code",
   "execution_count": 35,
   "id": "57a17fa0",
   "metadata": {},
   "outputs": [
    {
     "data": {
      "text/plain": [
       "0"
      ]
     },
     "execution_count": 35,
     "metadata": {},
     "output_type": "execute_result"
    }
   ],
   "source": [
    "myfile.seek(0)"
   ]
  },
  {
   "cell_type": "code",
   "execution_count": 36,
   "id": "1ba4e77a",
   "metadata": {},
   "outputs": [
    {
     "data": {
      "text/plain": [
       "['Hello this is a text file\\n',\n",
       " 'this is second line\\n',\n",
       " 'this is third line\\n']"
      ]
     },
     "execution_count": 36,
     "metadata": {},
     "output_type": "execute_result"
    }
   ],
   "source": [
    "myfile.readlines()"
   ]
  },
  {
   "cell_type": "markdown",
   "id": "0508cd24",
   "metadata": {},
   "source": [
    "### File Locations\n",
    "\n",
    "If want to open files at another location on your computer, simply pass in the entire file path. \n",
    "\n",
    "myfile = open(\"C:\\\\Users\\\\UserName\\\\Folder\\\\test.txt\")\n"
   ]
  },
  {
   "cell_type": "code",
   "execution_count": 37,
   "id": "78674978",
   "metadata": {},
   "outputs": [
    {
     "data": {
      "text/plain": [
       "'C:\\\\Users\\\\Thanuj Kumar.S\\\\My Python Stuffs'"
      ]
     },
     "execution_count": 37,
     "metadata": {},
     "output_type": "execute_result"
    }
   ],
   "source": [
    "pwd"
   ]
  },
  {
   "cell_type": "code",
   "execution_count": 38,
   "id": "cde95983",
   "metadata": {},
   "outputs": [],
   "source": [
    "myfile.close()"
   ]
  },
  {
   "cell_type": "code",
   "execution_count": 41,
   "id": "27636f9c",
   "metadata": {},
   "outputs": [],
   "source": [
    "with open('myfirstIOfile.txt') as my_new_file:\n",
    "    contents = my_new_file.read()"
   ]
  },
  {
   "cell_type": "code",
   "execution_count": 42,
   "id": "fe9f9743",
   "metadata": {},
   "outputs": [
    {
     "data": {
      "text/plain": [
       "'Hello this is a text file\\nthis is second line\\nthis is third line\\n'"
      ]
     },
     "execution_count": 42,
     "metadata": {},
     "output_type": "execute_result"
    }
   ],
   "source": [
    "contents"
   ]
  },
  {
   "cell_type": "code",
   "execution_count": 43,
   "id": "9e281266",
   "metadata": {},
   "outputs": [],
   "source": [
    "with open('myfirstIOfile.txt', mode='r' ) as myfile:\n",
    "    contents = myfile.read()"
   ]
  },
  {
   "cell_type": "code",
   "execution_count": 44,
   "id": "8e0ff1c6",
   "metadata": {},
   "outputs": [
    {
     "data": {
      "text/plain": [
       "'Hello this is a text file\\nthis is second line\\nthis is third line\\n'"
      ]
     },
     "execution_count": 44,
     "metadata": {},
     "output_type": "execute_result"
    }
   ],
   "source": [
    "contents"
   ]
  },
  {
   "attachments": {
    "image.png": {
     "image/png": "[encoded data removed]"
    }
   },
   "cell_type": "markdown",
   "id": "5b847480",
   "metadata": {},
   "source": [
    "![image.png](attachment:image.png)"
   ]
  },
  {
   "cell_type": "code",
   "execution_count": 60,
   "id": "ca4011ae",
   "metadata": {},
   "outputs": [
    {
     "name": "stdout",
     "output_type": "stream",
     "text": [
      "Overwriting myfirstIOfile.txt\n"
     ]
    }
   ],
   "source": [
    "%%writefile myfirstIOfile.txt\n",
    "Hello this is a text file\n",
    "this is one on second line\n",
    "this is second on third line"
   ]
  },
  {
   "cell_type": "code",
   "execution_count": 61,
   "id": "7f5f5b70",
   "metadata": {},
   "outputs": [
    {
     "name": "stdout",
     "output_type": "stream",
     "text": [
      "Hello this is a text file\n",
      "this is one on second line\n",
      "this is second on third line\n",
      "\n"
     ]
    }
   ],
   "source": [
    "with open('myfirstIOfile.txt', mode='r' ) as f:\n",
    "    print(f.read())"
   ]
  },
  {
   "cell_type": "code",
   "execution_count": 62,
   "id": "6d366d58",
   "metadata": {},
   "outputs": [],
   "source": [
    "with open('myfirstIOfile.txt', mode='a' ) as f:\n",
    "    f.write('this is third on fourth')"
   ]
  },
  {
   "cell_type": "code",
   "execution_count": 63,
   "id": "701a5601",
   "metadata": {},
   "outputs": [
    {
     "name": "stdout",
     "output_type": "stream",
     "text": [
      "Hello this is a text file\n",
      "this is one on second line\n",
      "this is second on third line\n",
      "this is third on fourth\n"
     ]
    }
   ],
   "source": [
    "with open('myfirstIOfile.txt', mode='r' ) as f:\n",
    "    print(f.read())"
   ]
  },
  {
   "cell_type": "code",
   "execution_count": 64,
   "id": "e92709c1",
   "metadata": {},
   "outputs": [],
   "source": [
    "with open('ahnkjnfei.txt',mode='w') as f:\n",
    "    f.write('I created this file!')"
   ]
  },
  {
   "cell_type": "code",
   "execution_count": 66,
   "id": "ae70e69f",
   "metadata": {},
   "outputs": [
    {
     "name": "stdout",
     "output_type": "stream",
     "text": [
      "I created this file!\n"
     ]
    }
   ],
   "source": [
    "with open('ahnkjnfei.txt',mode='r') as f:\n",
    "    print(f.read())"
   ]
  },
  {
   "cell_type": "code",
   "execution_count": null,
   "id": "26135033",
   "metadata": {},
   "outputs": [],
   "source": []
  }
 ],
 "metadata": {
  "kernelspec": {
   "display_name": "Python 3 (ipykernel)",
   "language": "python",
   "name": "python3"
  },
  "language_info": {
   "codemirror_mode": {
    "name": "ipython",
    "version": 3
   },
   "file_extension": ".py",
   "mimetype": "text/x-python",
   "name": "python",
   "nbconvert_exporter": "python",
   "pygments_lexer": "ipython3",
   "version": "3.9.13"
  },
  "toc": {
   "base_numbering": 1,
   "nav_menu": {},
   "number_sections": false,
   "sideBar": true,
   "skip_h1_title": false,
   "title_cell": "Table of Contents",
   "title_sidebar": "Contents",
   "toc_cell": false,
   "toc_position": {},
   "toc_section_display": true,
   "toc_window_display": false
  }
 },
 "nbformat": 4,
 "nbformat_minor": 5
}
